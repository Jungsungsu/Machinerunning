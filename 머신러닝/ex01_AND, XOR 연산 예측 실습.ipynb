{
 "cells": [
  {
   "cell_type": "markdown",
   "id": "ee0aa9f1",
   "metadata": {},
   "source": [
    "### 목표\n",
    "- AND, XOR 연산을 통해 기계가 학습과 정답을 예측하는 과정을 알아보자!"
   ]
  },
  {
   "cell_type": "markdown",
   "id": "e3f5dfbe",
   "metadata": {},
   "source": [
    "### AND 연산 : 둘 다 1이면 1이 출력, 하나라도 0이면 0이 출력되는 논리 연산"
   ]
  },
  {
   "cell_type": "code",
   "execution_count": 44,
   "id": "ed2c0144",
   "metadata": {},
   "outputs": [],
   "source": [
    "# 기본 라이브러리 3종류 임포트\n",
    "import numpy as np\n",
    "import pandas as pd\n",
    "import matplotlib.pyplot as plt\n",
    "# sklearn : 데이터분석을 위한 머신러닝 전용 라이브러리\n",
    "# sklearn 라이브러리에서 KNN 이라는 모델을 불러와보자!\n",
    "from sklearn.neighbors import KNeighborsClassifier\n",
    "# 학습된 모델의 신뢰성을 검증하기 위하여 평가할 수 있는 라이브러리를 가져와보자!\n",
    "from sklearn import metrics"
   ]
  },
  {
   "cell_type": "code",
   "execution_count": 7,
   "id": "7797e0c4",
   "metadata": {},
   "outputs": [
    {
     "data": {
      "text/html": [
       "<div>\n",
       "<style scoped>\n",
       "    .dataframe tbody tr th:only-of-type {\n",
       "        vertical-align: middle;\n",
       "    }\n",
       "\n",
       "    .dataframe tbody tr th {\n",
       "        vertical-align: top;\n",
       "    }\n",
       "\n",
       "    .dataframe thead th {\n",
       "        text-align: right;\n",
       "    }\n",
       "</style>\n",
       "<table border=\"1\" class=\"dataframe\">\n",
       "  <thead>\n",
       "    <tr style=\"text-align: right;\">\n",
       "      <th></th>\n",
       "      <th>P</th>\n",
       "      <th>Q</th>\n",
       "      <th>P and Q</th>\n",
       "    </tr>\n",
       "  </thead>\n",
       "  <tbody>\n",
       "    <tr>\n",
       "      <th>0</th>\n",
       "      <td>0</td>\n",
       "      <td>0</td>\n",
       "      <td>0</td>\n",
       "    </tr>\n",
       "    <tr>\n",
       "      <th>1</th>\n",
       "      <td>0</td>\n",
       "      <td>1</td>\n",
       "      <td>0</td>\n",
       "    </tr>\n",
       "    <tr>\n",
       "      <th>2</th>\n",
       "      <td>1</td>\n",
       "      <td>0</td>\n",
       "      <td>0</td>\n",
       "    </tr>\n",
       "    <tr>\n",
       "      <th>3</th>\n",
       "      <td>1</td>\n",
       "      <td>1</td>\n",
       "      <td>1</td>\n",
       "    </tr>\n",
       "  </tbody>\n",
       "</table>\n",
       "</div>"
      ],
      "text/plain": [
       "   P  Q  P and Q\n",
       "0  0  0        0\n",
       "1  0  1        0\n",
       "2  1  0        0\n",
       "3  1  1        1"
      ]
     },
     "execution_count": 7,
     "metadata": {},
     "output_type": "execute_result"
    }
   ],
   "source": [
    "# 데이터를 직접 만들어보자!\n",
    "df_and = pd.DataFrame([[0,0,0],\n",
    "                       [0,1,0],\n",
    "                       [1,0,0],\n",
    "                       [1,1,1]],\n",
    "                       columns= ['P', 'Q', 'P and Q']\n",
    "                      )\n",
    "df_and"
   ]
  },
  {
   "cell_type": "code",
   "execution_count": 20,
   "id": "bfe9db7e",
   "metadata": {},
   "outputs": [],
   "source": [
    "# 인덱싱, 슬라이싱(loc,iloc)\n",
    "# 문제 데이터 설정\n",
    "X = df_and.iloc[ : , 0:2] # [행의 범위, 열의 범위], iloc는 끝 범위는 포함되지 않음\n",
    "# 정답 데이터 설정\n",
    "y = df_and.iloc[ : , 2:3] \n",
    "\n",
    "X= df_and.iloc[ : , 0:2]\n",
    "y = df_and"
   ]
  },
  {
   "cell_type": "code",
   "execution_count": 17,
   "id": "8235587b",
   "metadata": {
    "collapsed": true
   },
   "outputs": [
    {
     "data": {
      "text/html": [
       "<div>\n",
       "<style scoped>\n",
       "    .dataframe tbody tr th:only-of-type {\n",
       "        vertical-align: middle;\n",
       "    }\n",
       "\n",
       "    .dataframe tbody tr th {\n",
       "        vertical-align: top;\n",
       "    }\n",
       "\n",
       "    .dataframe thead th {\n",
       "        text-align: right;\n",
       "    }\n",
       "</style>\n",
       "<table border=\"1\" class=\"dataframe\">\n",
       "  <thead>\n",
       "    <tr style=\"text-align: right;\">\n",
       "      <th></th>\n",
       "      <th>P</th>\n",
       "      <th>Q</th>\n",
       "    </tr>\n",
       "  </thead>\n",
       "  <tbody>\n",
       "    <tr>\n",
       "      <th>0</th>\n",
       "      <td>0</td>\n",
       "      <td>0</td>\n",
       "    </tr>\n",
       "    <tr>\n",
       "      <th>1</th>\n",
       "      <td>0</td>\n",
       "      <td>1</td>\n",
       "    </tr>\n",
       "    <tr>\n",
       "      <th>2</th>\n",
       "      <td>1</td>\n",
       "      <td>0</td>\n",
       "    </tr>\n",
       "    <tr>\n",
       "      <th>3</th>\n",
       "      <td>1</td>\n",
       "      <td>1</td>\n",
       "    </tr>\n",
       "  </tbody>\n",
       "</table>\n",
       "</div>"
      ],
      "text/plain": [
       "   P  Q\n",
       "0  0  0\n",
       "1  0  1\n",
       "2  1  0\n",
       "3  1  1"
      ]
     },
     "execution_count": 17,
     "metadata": {},
     "output_type": "execute_result"
    }
   ],
   "source": [
    "X"
   ]
  },
  {
   "cell_type": "code",
   "execution_count": 21,
   "id": "0a2ece6b",
   "metadata": {
    "collapsed": true
   },
   "outputs": [
    {
     "data": {
      "text/html": [
       "<div>\n",
       "<style scoped>\n",
       "    .dataframe tbody tr th:only-of-type {\n",
       "        vertical-align: middle;\n",
       "    }\n",
       "\n",
       "    .dataframe tbody tr th {\n",
       "        vertical-align: top;\n",
       "    }\n",
       "\n",
       "    .dataframe thead th {\n",
       "        text-align: right;\n",
       "    }\n",
       "</style>\n",
       "<table border=\"1\" class=\"dataframe\">\n",
       "  <thead>\n",
       "    <tr style=\"text-align: right;\">\n",
       "      <th></th>\n",
       "      <th>P and Q</th>\n",
       "    </tr>\n",
       "  </thead>\n",
       "  <tbody>\n",
       "    <tr>\n",
       "      <th>0</th>\n",
       "      <td>0</td>\n",
       "    </tr>\n",
       "    <tr>\n",
       "      <th>1</th>\n",
       "      <td>0</td>\n",
       "    </tr>\n",
       "    <tr>\n",
       "      <th>2</th>\n",
       "      <td>0</td>\n",
       "    </tr>\n",
       "    <tr>\n",
       "      <th>3</th>\n",
       "      <td>1</td>\n",
       "    </tr>\n",
       "  </tbody>\n",
       "</table>\n",
       "</div>"
      ],
      "text/plain": [
       "   P and Q\n",
       "0        0\n",
       "1        0\n",
       "2        0\n",
       "3        1"
      ]
     },
     "execution_count": 21,
     "metadata": {},
     "output_type": "execute_result"
    }
   ],
   "source": [
    "y"
   ]
  },
  {
   "cell_type": "markdown",
   "id": "6cbf8995",
   "metadata": {},
   "source": [
    "#### KNN  분류 모델을 불러와서 변수에 담아주자!"
   ]
  },
  {
   "cell_type": "code",
   "execution_count": 22,
   "id": "2cc751ea",
   "metadata": {},
   "outputs": [],
   "source": [
    "# n_neighbors : 예측을 위해 판단하는 이웃 데이터의 개수\n",
    "knn_model = KNeighborsClassifier(n_neighbors=1)"
   ]
  },
  {
   "cell_type": "markdown",
   "id": "3e91f74f",
   "metadata": {},
   "source": [
    "#### KNN 모델에 문제와 정답을 넣어서 학습시키기"
   ]
  },
  {
   "cell_type": "code",
   "execution_count": 23,
   "id": "6d747280",
   "metadata": {},
   "outputs": [
    {
     "name": "stderr",
     "output_type": "stream",
     "text": [
      "C:\\Users\\smhrd\\anaconda3\\lib\\site-packages\\sklearn\\neighbors\\_classification.py:179: DataConversionWarning: A column-vector y was passed when a 1d array was expected. Please change the shape of y to (n_samples,), for example using ravel().\n",
      "  return self._fit(X, y)\n"
     ]
    },
    {
     "data": {
      "text/plain": [
       "KNeighborsClassifier(n_neighbors=1)"
      ]
     },
     "execution_count": 23,
     "metadata": {},
     "output_type": "execute_result"
    }
   ],
   "source": [
    "# fit : 모델을 학습 시키는 명령, 학습을 위해 문제와 정답을 넣어주자!\n",
    "knn_model.fit(X,y)\n",
    "\n",
    "# knn_model 이라는 변수에 문제(X), 정답(y)으로 학습된 규칙이 그대로 남아있음"
   ]
  },
  {
   "cell_type": "markdown",
   "id": "48761b73",
   "metadata": {},
   "source": [
    "#### 학습된 모델을 사용하여 새로운 문제에 대해 정답을 예측하고, 답과 비교해보자!"
   ]
  },
  {
   "cell_type": "code",
   "execution_count": 27,
   "id": "2ca9c915",
   "metadata": {},
   "outputs": [
    {
     "data": {
      "text/plain": [
       "array([1, 0, 0, 0], dtype=int64)"
      ]
     },
     "execution_count": 27,
     "metadata": {},
     "output_type": "execute_result"
    }
   ],
   "source": [
    "# predict : 학습된 모델로 정답을 예측하는 명령\n",
    "# 학습된 모델에 새로운 문제를 넣어서 예측해보자!\n",
    "pre = knn_model.predict([[1,1],\n",
    "                         [0,1],\n",
    "                         [1,0],\n",
    "                         [0,0]]\n",
    "                       )\n",
    "pre"
   ]
  },
  {
   "cell_type": "code",
   "execution_count": 30,
   "id": "3695c056",
   "metadata": {},
   "outputs": [],
   "source": [
    "# 비교를 위해 실제 정답 만들기\n",
    "answer = [1,0,0,1]"
   ]
  },
  {
   "cell_type": "markdown",
   "id": "f5c60d11",
   "metadata": {},
   "source": [
    "#### 모델 평가 진행"
   ]
  },
  {
   "cell_type": "code",
   "execution_count": 31,
   "id": "d5f6f5a8",
   "metadata": {},
   "outputs": [
    {
     "data": {
      "text/plain": [
       "0.75"
      ]
     },
     "execution_count": 31,
     "metadata": {},
     "output_type": "execute_result"
    }
   ],
   "source": [
    "# accuracy_score : 학습된 모델의 정확도를 표현(범위 : 0~1, 1이면 100% 정확하다는 뜻)\n",
    "metrics.accuracy_score(pre, answer)"
   ]
  },
  {
   "cell_type": "markdown",
   "id": "0589e1e6",
   "metadata": {},
   "source": [
    "#### XOR 연산 : 둘 다 같으면 0, 다르면 1이 나오는 연산"
   ]
  },
  {
   "cell_type": "code",
   "execution_count": 118,
   "id": "38a25fc0",
   "metadata": {},
   "outputs": [
    {
     "data": {
      "text/html": [
       "<div>\n",
       "<style scoped>\n",
       "    .dataframe tbody tr th:only-of-type {\n",
       "        vertical-align: middle;\n",
       "    }\n",
       "\n",
       "    .dataframe tbody tr th {\n",
       "        vertical-align: top;\n",
       "    }\n",
       "\n",
       "    .dataframe thead th {\n",
       "        text-align: right;\n",
       "    }\n",
       "</style>\n",
       "<table border=\"1\" class=\"dataframe\">\n",
       "  <thead>\n",
       "    <tr style=\"text-align: right;\">\n",
       "      <th></th>\n",
       "      <th>P</th>\n",
       "      <th>Q</th>\n",
       "      <th>P and Q</th>\n",
       "    </tr>\n",
       "  </thead>\n",
       "  <tbody>\n",
       "    <tr>\n",
       "      <th>0</th>\n",
       "      <td>0</td>\n",
       "      <td>0</td>\n",
       "      <td>0</td>\n",
       "    </tr>\n",
       "    <tr>\n",
       "      <th>1</th>\n",
       "      <td>0</td>\n",
       "      <td>1</td>\n",
       "      <td>1</td>\n",
       "    </tr>\n",
       "    <tr>\n",
       "      <th>2</th>\n",
       "      <td>1</td>\n",
       "      <td>0</td>\n",
       "      <td>1</td>\n",
       "    </tr>\n",
       "    <tr>\n",
       "      <th>3</th>\n",
       "      <td>1</td>\n",
       "      <td>1</td>\n",
       "      <td>0</td>\n",
       "    </tr>\n",
       "  </tbody>\n",
       "</table>\n",
       "</div>"
      ],
      "text/plain": [
       "   P  Q  P and Q\n",
       "0  0  0        0\n",
       "1  0  1        1\n",
       "2  1  0        1\n",
       "3  1  1        0"
      ]
     },
     "execution_count": 118,
     "metadata": {},
     "output_type": "execute_result"
    }
   ],
   "source": [
    "# 데이터를 직접 만들어보자!\n",
    "df_xor = pd.DataFrame([[0,0,0],\n",
    "                       [0,1,1],\n",
    "                       [1,0,1],\n",
    "                       [1,1,0]],\n",
    "                       columns= ['P', 'Q', 'P and Q']\n",
    "                      )\n",
    "df_xor"
   ]
  },
  {
   "cell_type": "code",
   "execution_count": 119,
   "id": "1a0edaf1",
   "metadata": {},
   "outputs": [],
   "source": [
    "X1 = df_xor.iloc[ : , 0:2]\n",
    "y1 = df_xor.iloc[ : , 2:3]"
   ]
  },
  {
   "cell_type": "code",
   "execution_count": 120,
   "id": "beabcab2",
   "metadata": {},
   "outputs": [
    {
     "data": {
      "text/html": [
       "<div>\n",
       "<style scoped>\n",
       "    .dataframe tbody tr th:only-of-type {\n",
       "        vertical-align: middle;\n",
       "    }\n",
       "\n",
       "    .dataframe tbody tr th {\n",
       "        vertical-align: top;\n",
       "    }\n",
       "\n",
       "    .dataframe thead th {\n",
       "        text-align: right;\n",
       "    }\n",
       "</style>\n",
       "<table border=\"1\" class=\"dataframe\">\n",
       "  <thead>\n",
       "    <tr style=\"text-align: right;\">\n",
       "      <th></th>\n",
       "      <th>P</th>\n",
       "      <th>Q</th>\n",
       "    </tr>\n",
       "  </thead>\n",
       "  <tbody>\n",
       "    <tr>\n",
       "      <th>0</th>\n",
       "      <td>0</td>\n",
       "      <td>0</td>\n",
       "    </tr>\n",
       "    <tr>\n",
       "      <th>1</th>\n",
       "      <td>0</td>\n",
       "      <td>1</td>\n",
       "    </tr>\n",
       "    <tr>\n",
       "      <th>2</th>\n",
       "      <td>1</td>\n",
       "      <td>0</td>\n",
       "    </tr>\n",
       "    <tr>\n",
       "      <th>3</th>\n",
       "      <td>1</td>\n",
       "      <td>1</td>\n",
       "    </tr>\n",
       "  </tbody>\n",
       "</table>\n",
       "</div>"
      ],
      "text/plain": [
       "   P  Q\n",
       "0  0  0\n",
       "1  0  1\n",
       "2  1  0\n",
       "3  1  1"
      ]
     },
     "execution_count": 120,
     "metadata": {},
     "output_type": "execute_result"
    }
   ],
   "source": [
    "X1"
   ]
  },
  {
   "cell_type": "code",
   "execution_count": 121,
   "id": "fd7e95ef",
   "metadata": {},
   "outputs": [
    {
     "data": {
      "text/html": [
       "<div>\n",
       "<style scoped>\n",
       "    .dataframe tbody tr th:only-of-type {\n",
       "        vertical-align: middle;\n",
       "    }\n",
       "\n",
       "    .dataframe tbody tr th {\n",
       "        vertical-align: top;\n",
       "    }\n",
       "\n",
       "    .dataframe thead th {\n",
       "        text-align: right;\n",
       "    }\n",
       "</style>\n",
       "<table border=\"1\" class=\"dataframe\">\n",
       "  <thead>\n",
       "    <tr style=\"text-align: right;\">\n",
       "      <th></th>\n",
       "      <th>P and Q</th>\n",
       "    </tr>\n",
       "  </thead>\n",
       "  <tbody>\n",
       "    <tr>\n",
       "      <th>0</th>\n",
       "      <td>0</td>\n",
       "    </tr>\n",
       "    <tr>\n",
       "      <th>1</th>\n",
       "      <td>1</td>\n",
       "    </tr>\n",
       "    <tr>\n",
       "      <th>2</th>\n",
       "      <td>1</td>\n",
       "    </tr>\n",
       "    <tr>\n",
       "      <th>3</th>\n",
       "      <td>0</td>\n",
       "    </tr>\n",
       "  </tbody>\n",
       "</table>\n",
       "</div>"
      ],
      "text/plain": [
       "   P and Q\n",
       "0        0\n",
       "1        1\n",
       "2        1\n",
       "3        0"
      ]
     },
     "execution_count": 121,
     "metadata": {},
     "output_type": "execute_result"
    }
   ],
   "source": [
    "y1"
   ]
  },
  {
   "cell_type": "code",
   "execution_count": 122,
   "id": "5aef63c6",
   "metadata": {},
   "outputs": [],
   "source": [
    "knn_model1 = KNeighborsClassifier(n_neighbors=1)"
   ]
  },
  {
   "cell_type": "code",
   "execution_count": 123,
   "id": "051f75f1",
   "metadata": {},
   "outputs": [
    {
     "name": "stderr",
     "output_type": "stream",
     "text": [
      "C:\\Users\\smhrd\\anaconda3\\lib\\site-packages\\sklearn\\neighbors\\_classification.py:179: DataConversionWarning: A column-vector y was passed when a 1d array was expected. Please change the shape of y to (n_samples,), for example using ravel().\n",
      "  return self._fit(X, y)\n"
     ]
    },
    {
     "data": {
      "text/plain": [
       "KNeighborsClassifier(n_neighbors=1)"
      ]
     },
     "execution_count": 123,
     "metadata": {},
     "output_type": "execute_result"
    }
   ],
   "source": [
    "knn_model1.fit(X1,y1)"
   ]
  },
  {
   "cell_type": "code",
   "execution_count": 124,
   "id": "7b14ffa8",
   "metadata": {},
   "outputs": [
    {
     "data": {
      "text/plain": [
       "array([0, 1, 1, 0], dtype=int64)"
      ]
     },
     "execution_count": 124,
     "metadata": {},
     "output_type": "execute_result"
    }
   ],
   "source": [
    "pre1 = knn_model.predict([[1,1],\n",
    "                         [0,1],\n",
    "                         [1,0],\n",
    "                         [0,0]]\n",
    "                        )\n",
    "pre1"
   ]
  },
  {
   "cell_type": "code",
   "execution_count": 125,
   "id": "82552103",
   "metadata": {},
   "outputs": [],
   "source": [
    "answer1 = [0,1,1,0]"
   ]
  },
  {
   "cell_type": "code",
   "execution_count": 126,
   "id": "04b34a27",
   "metadata": {},
   "outputs": [
    {
     "data": {
      "text/plain": [
       "1.0"
      ]
     },
     "execution_count": 126,
     "metadata": {},
     "output_type": "execute_result"
    }
   ],
   "source": [
    "metrics.accuracy_score(pre1, answer1)"
   ]
  },
  {
   "cell_type": "markdown",
   "id": "95a52faa",
   "metadata": {},
   "source": [
    "### OR 연산"
   ]
  },
  {
   "cell_type": "code",
   "execution_count": 127,
   "id": "6180671f",
   "metadata": {},
   "outputs": [
    {
     "data": {
      "text/html": [
       "<div>\n",
       "<style scoped>\n",
       "    .dataframe tbody tr th:only-of-type {\n",
       "        vertical-align: middle;\n",
       "    }\n",
       "\n",
       "    .dataframe tbody tr th {\n",
       "        vertical-align: top;\n",
       "    }\n",
       "\n",
       "    .dataframe thead th {\n",
       "        text-align: right;\n",
       "    }\n",
       "</style>\n",
       "<table border=\"1\" class=\"dataframe\">\n",
       "  <thead>\n",
       "    <tr style=\"text-align: right;\">\n",
       "      <th></th>\n",
       "      <th>P</th>\n",
       "      <th>Q</th>\n",
       "      <th>P and Q</th>\n",
       "    </tr>\n",
       "  </thead>\n",
       "  <tbody>\n",
       "    <tr>\n",
       "      <th>0</th>\n",
       "      <td>0</td>\n",
       "      <td>0</td>\n",
       "      <td>0</td>\n",
       "    </tr>\n",
       "    <tr>\n",
       "      <th>1</th>\n",
       "      <td>0</td>\n",
       "      <td>1</td>\n",
       "      <td>1</td>\n",
       "    </tr>\n",
       "    <tr>\n",
       "      <th>2</th>\n",
       "      <td>1</td>\n",
       "      <td>0</td>\n",
       "      <td>1</td>\n",
       "    </tr>\n",
       "    <tr>\n",
       "      <th>3</th>\n",
       "      <td>1</td>\n",
       "      <td>1</td>\n",
       "      <td>0</td>\n",
       "    </tr>\n",
       "  </tbody>\n",
       "</table>\n",
       "</div>"
      ],
      "text/plain": [
       "   P  Q  P and Q\n",
       "0  0  0        0\n",
       "1  0  1        1\n",
       "2  1  0        1\n",
       "3  1  1        0"
      ]
     },
     "execution_count": 127,
     "metadata": {},
     "output_type": "execute_result"
    }
   ],
   "source": [
    "# 데이터를 직접 만들어보자!\n",
    "df_or = pd.DataFrame([[0,0,0],\n",
    "                       [0,1,1],\n",
    "                       [1,0,1],\n",
    "                       [1,1,0]],\n",
    "                       columns= ['P', 'Q', 'P and Q']\n",
    "                      )\n",
    "df_or"
   ]
  },
  {
   "cell_type": "code",
   "execution_count": 128,
   "id": "20fffe39",
   "metadata": {},
   "outputs": [],
   "source": [
    "X = df_or.iloc[ : , 0:2]\n",
    "y = df_or.iloc[ : , 2:3]"
   ]
  },
  {
   "cell_type": "code",
   "execution_count": 129,
   "id": "6f738cd0",
   "metadata": {},
   "outputs": [
    {
     "data": {
      "text/html": [
       "<div>\n",
       "<style scoped>\n",
       "    .dataframe tbody tr th:only-of-type {\n",
       "        vertical-align: middle;\n",
       "    }\n",
       "\n",
       "    .dataframe tbody tr th {\n",
       "        vertical-align: top;\n",
       "    }\n",
       "\n",
       "    .dataframe thead th {\n",
       "        text-align: right;\n",
       "    }\n",
       "</style>\n",
       "<table border=\"1\" class=\"dataframe\">\n",
       "  <thead>\n",
       "    <tr style=\"text-align: right;\">\n",
       "      <th></th>\n",
       "      <th>P</th>\n",
       "      <th>Q</th>\n",
       "    </tr>\n",
       "  </thead>\n",
       "  <tbody>\n",
       "    <tr>\n",
       "      <th>0</th>\n",
       "      <td>0</td>\n",
       "      <td>0</td>\n",
       "    </tr>\n",
       "    <tr>\n",
       "      <th>1</th>\n",
       "      <td>0</td>\n",
       "      <td>1</td>\n",
       "    </tr>\n",
       "    <tr>\n",
       "      <th>2</th>\n",
       "      <td>1</td>\n",
       "      <td>0</td>\n",
       "    </tr>\n",
       "    <tr>\n",
       "      <th>3</th>\n",
       "      <td>1</td>\n",
       "      <td>1</td>\n",
       "    </tr>\n",
       "  </tbody>\n",
       "</table>\n",
       "</div>"
      ],
      "text/plain": [
       "   P  Q\n",
       "0  0  0\n",
       "1  0  1\n",
       "2  1  0\n",
       "3  1  1"
      ]
     },
     "execution_count": 129,
     "metadata": {},
     "output_type": "execute_result"
    }
   ],
   "source": [
    "X"
   ]
  },
  {
   "cell_type": "code",
   "execution_count": 130,
   "id": "924e69df",
   "metadata": {},
   "outputs": [
    {
     "data": {
      "text/html": [
       "<div>\n",
       "<style scoped>\n",
       "    .dataframe tbody tr th:only-of-type {\n",
       "        vertical-align: middle;\n",
       "    }\n",
       "\n",
       "    .dataframe tbody tr th {\n",
       "        vertical-align: top;\n",
       "    }\n",
       "\n",
       "    .dataframe thead th {\n",
       "        text-align: right;\n",
       "    }\n",
       "</style>\n",
       "<table border=\"1\" class=\"dataframe\">\n",
       "  <thead>\n",
       "    <tr style=\"text-align: right;\">\n",
       "      <th></th>\n",
       "      <th>P and Q</th>\n",
       "    </tr>\n",
       "  </thead>\n",
       "  <tbody>\n",
       "    <tr>\n",
       "      <th>0</th>\n",
       "      <td>0</td>\n",
       "    </tr>\n",
       "    <tr>\n",
       "      <th>1</th>\n",
       "      <td>1</td>\n",
       "    </tr>\n",
       "    <tr>\n",
       "      <th>2</th>\n",
       "      <td>1</td>\n",
       "    </tr>\n",
       "    <tr>\n",
       "      <th>3</th>\n",
       "      <td>0</td>\n",
       "    </tr>\n",
       "  </tbody>\n",
       "</table>\n",
       "</div>"
      ],
      "text/plain": [
       "   P and Q\n",
       "0        0\n",
       "1        1\n",
       "2        1\n",
       "3        0"
      ]
     },
     "execution_count": 130,
     "metadata": {},
     "output_type": "execute_result"
    }
   ],
   "source": [
    "y"
   ]
  },
  {
   "cell_type": "code",
   "execution_count": 131,
   "id": "ed598469",
   "metadata": {},
   "outputs": [],
   "source": [
    "knn_model2 = KNeighborsClassifier(n_neighbors=1)"
   ]
  },
  {
   "cell_type": "code",
   "execution_count": 132,
   "id": "4dc904d7",
   "metadata": {},
   "outputs": [
    {
     "name": "stderr",
     "output_type": "stream",
     "text": [
      "C:\\Users\\smhrd\\anaconda3\\lib\\site-packages\\sklearn\\neighbors\\_classification.py:179: DataConversionWarning: A column-vector y was passed when a 1d array was expected. Please change the shape of y to (n_samples,), for example using ravel().\n",
      "  return self._fit(X, y)\n"
     ]
    },
    {
     "data": {
      "text/plain": [
       "KNeighborsClassifier(n_neighbors=1)"
      ]
     },
     "execution_count": 132,
     "metadata": {},
     "output_type": "execute_result"
    }
   ],
   "source": [
    "knn_model2.fit(X,y)"
   ]
  },
  {
   "cell_type": "code",
   "execution_count": 133,
   "id": "3904bce9",
   "metadata": {},
   "outputs": [
    {
     "data": {
      "text/plain": [
       "array([0, 1, 1, 0], dtype=int64)"
      ]
     },
     "execution_count": 133,
     "metadata": {},
     "output_type": "execute_result"
    }
   ],
   "source": [
    "pre = knn_model.predict([[1,1],\n",
    "                         [0,1],\n",
    "                         [1,0],\n",
    "                         [0,0]]\n",
    "                        )\n",
    "pre"
   ]
  },
  {
   "cell_type": "code",
   "execution_count": 134,
   "id": "e434e80c",
   "metadata": {},
   "outputs": [],
   "source": [
    "answer = [0,1,1,0]"
   ]
  },
  {
   "cell_type": "code",
   "execution_count": 135,
   "id": "3360bb5e",
   "metadata": {},
   "outputs": [
    {
     "data": {
      "text/plain": [
       "1.0"
      ]
     },
     "execution_count": 135,
     "metadata": {},
     "output_type": "execute_result"
    }
   ],
   "source": [
    "metrics.accuracy_score(pre, answer)"
   ]
  },
  {
   "cell_type": "code",
   "execution_count": null,
   "id": "e1ad4f26",
   "metadata": {},
   "outputs": [],
   "source": [
    "# 데이터를 직접 만들어보자!\n",
    "df_xor = pd.DataFrame([[0,0,0],\n",
    "                       [0,1,1],\n",
    "                       [1,0,1],\n",
    "                       [1,1,0]],\n",
    "                       columns= ['P', 'Q', 'P and Q']\n",
    "                      )\n",
    "df_xor\n",
    "X1 = df_xor.iloc[ : , 0:2]\n",
    "y1 = df_xor.iloc[ : , 2:3]\n",
    "knn_model1 = KNeighborsClassifier(n_neighbors=1)\n",
    "knn_model1.fit(X1,y1)\n",
    "pre1 = knn_model.predict([[1,1],\n",
    "                         [0,1],\n",
    "                         [1,0],\n",
    "                         [0,0]]\n",
    "                        )\n",
    "pre1\n",
    "answer1 = [0,1,1,0]\n",
    "metrics.accuracy_score(pre1, answer1)"
   ]
  },
  {
   "cell_type": "code",
   "execution_count": null,
   "id": "e0edbd06",
   "metadata": {},
   "outputs": [],
   "source": [
    "# 기본 라이브러리 3종류 임포트\n",
    "import numpy as np\n",
    "import pandas as pd\n",
    "import matplotlib.pyplot as plt\n",
    "# sklearn : 데이터분석을 위한 머신러닝 전용 라이브러리\n",
    "# sklearn 라이브러리에서 KNN 이라는 모델을 불러와보자!\n",
    "from sklearn.neighbors import KNeighborsClassifier\n",
    "# 학습된 모델의 신뢰성을 검증하기 위하여 평가할 수 있는 라이브러리를 가져와보자!\n",
    "from sklearn import metrics\n",
    "\n",
    "df_xor = pd.DataFrame([[0,0,0],\n",
    "                       [0,1,1],\n",
    "                       [1,0,1],\n",
    "                       [1,1,0]],\n",
    "                       columns['P','Q','P and Q']\n",
    "                      )\n",
    "X1 = df_xor.iloc[ : , 0:2]\n",
    "y1 = df_xor.iloc[ : , 2:3]\n",
    "knn_model1 = KneighborsClassifier(n_neighbors=1)\n",
    "knn_model1.fit(X1,y1)\n",
    "## 정답 알려주기\n",
    "pre1 = knn_model.predict([[1,1],\n",
    "                          [0,1],\n",
    "                          [1,0],\n",
    "                          [0,0]]\n",
    "                         )\n",
    "\n",
    "answer1 = [0,1,1,0]\n",
    "metrics.accuracy_score(pre1, answer1)\n",
    "\n"
   ]
  },
  {
   "cell_type": "code",
   "execution_count": null,
   "id": "57ddabe6",
   "metadata": {},
   "outputs": [],
   "source": []
  },
  {
   "cell_type": "code",
   "execution_count": null,
   "id": "88a66d30",
   "metadata": {},
   "outputs": [],
   "source": []
  },
  {
   "cell_type": "code",
   "execution_count": null,
   "id": "9b492b4e",
   "metadata": {},
   "outputs": [],
   "source": []
  },
  {
   "cell_type": "code",
   "execution_count": null,
   "id": "16ca4193",
   "metadata": {},
   "outputs": [],
   "source": []
  },
  {
   "cell_type": "code",
   "execution_count": null,
   "id": "293f2fc6",
   "metadata": {},
   "outputs": [],
   "source": []
  },
  {
   "cell_type": "code",
   "execution_count": null,
   "id": "d5bc1041",
   "metadata": {},
   "outputs": [],
   "source": []
  }
 ],
 "metadata": {
  "kernelspec": {
   "display_name": "Python 3",
   "language": "python",
   "name": "python3"
  },
  "language_info": {
   "codemirror_mode": {
    "name": "ipython",
    "version": 3
   },
   "file_extension": ".py",
   "mimetype": "text/x-python",
   "name": "python",
   "nbconvert_exporter": "python",
   "pygments_lexer": "ipython3",
   "version": "3.8.8"
  }
 },
 "nbformat": 4,
 "nbformat_minor": 5
}
