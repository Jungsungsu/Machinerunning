{
 "cells": [
  {
   "cell_type": "markdown",
   "id": "161ba80c",
   "metadata": {},
   "source": [
    "#### iris 데이터를 활용하여 그리드서치를 적용해보자!\n",
    "- GridSearch 기능과 교차검증을 동시에 수행"
   ]
  },
  {
   "cell_type": "code",
   "execution_count": 2,
   "id": "45e2082f",
   "metadata": {},
   "outputs": [],
   "source": [
    "# 경고 무시\n",
    "import warnings\n",
    "warnings.filterwarnings(\"ignore\")"
   ]
  },
  {
   "cell_type": "code",
   "execution_count": 3,
   "id": "c215d307",
   "metadata": {},
   "outputs": [],
   "source": [
    "from sklearn.neighbors import KNeighborsClassifier\n",
    "from sklearn.tree import DecisionTreeClassifier\n",
    "# 그리드 서치 임포트\n",
    "from sklearn.model_selection import GridSearchCV\n",
    "from sklearn.datasets import load_iris\n",
    "from sklearn.model_selection import train_test_split"
   ]
  },
  {
   "cell_type": "code",
   "execution_count": 6,
   "id": "dba9c80b",
   "metadata": {},
   "outputs": [],
   "source": [
    "iris = load_iris()\n",
    "\n",
    "X_train, X_test, y_train, y_test = train_test_split(iris.data,\n",
    "                                                    iris.target,\n",
    "                                                    test_size=0.3,\n",
    "                                                    random_state=10\n",
    "                                                   )"
   ]
  },
  {
   "cell_type": "code",
   "execution_count": 7,
   "id": "07c51499",
   "metadata": {},
   "outputs": [
    {
     "name": "stdout",
     "output_type": "stream",
     "text": [
      "(105, 4)\n",
      "(45, 4)\n",
      "(105,)\n",
      "(45,)\n"
     ]
    }
   ],
   "source": [
    "print(X_train.shape)\n",
    "print(X_test.shape)\n",
    "print(y_train.shape)\n",
    "print(y_test.shape)"
   ]
  },
  {
   "cell_type": "markdown",
   "id": "0b4a7a39",
   "metadata": {},
   "source": [
    "#### KNN모델에 그리드서치 적용"
   ]
  },
  {
   "cell_type": "code",
   "execution_count": 10,
   "id": "abbe64f0",
   "metadata": {},
   "outputs": [],
   "source": [
    "# 파라미터 범위 설정시 딕셔너리 형태로 작성\n",
    "param_knn = {\"n_neighbors\" : range(1,10)}\n",
    "\n",
    "grid_search_knn = GridSearchCV(KNeighborsClassifier(),  # 모델 불러오기\n",
    "                               param_knn,               # 파라미터 범위 넣기\n",
    "                               cv=10                    # cv값 설정\n",
    "                              )"
   ]
  },
  {
   "cell_type": "code",
   "execution_count": 11,
   "id": "0bf7ef0f",
   "metadata": {},
   "outputs": [
    {
     "data": {
      "text/plain": [
       "GridSearchCV(cv=10, estimator=KNeighborsClassifier(),\n",
       "             param_grid={'n_neighbors': range(1, 10)})"
      ]
     },
     "execution_count": 11,
     "metadata": {},
     "output_type": "execute_result"
    }
   ],
   "source": [
    "# GridSearchCV에서 fit 명령은 최적의 하이퍼파라미터를 찾는 동시에 교차검증 성능이\n",
    "# 가장 좋은 하이퍼파라미터로 새로운 모델을 만들어 줌\n",
    "grid_search_knn.fit(X_train, y_train)"
   ]
  },
  {
   "cell_type": "code",
   "execution_count": 12,
   "id": "a933db4d",
   "metadata": {},
   "outputs": [
    {
     "name": "stdout",
     "output_type": "stream",
     "text": [
      "최적 하이퍼파라미터 값 : {'n_neighbors': 3}\n",
      "최고 교차 검증 점수 : 0.9627272727272727\n",
      "최고 성능 모델 : KNeighborsClassifier(n_neighbors=3)\n"
     ]
    }
   ],
   "source": [
    "print(\"최적 하이퍼파라미터 값 :\", grid_search_knn.best_params_)\n",
    "print(\"최고 교차 검증 점수 :\", grid_search_knn.best_score_)\n",
    "print(\"최고 성능 모델 :\", grid_search_knn.best_estimator_)\n",
    "\n",
    "# 최고성능모델은 어차피 grid_search_knn 변수에 저장이 되어 있기 때문에 굳이\n",
    "# 사용하지 않아도 무방함"
   ]
  },
  {
   "cell_type": "code",
   "execution_count": 14,
   "id": "04e4eec9",
   "metadata": {},
   "outputs": [
    {
     "data": {
      "text/plain": [
       "array([1, 2, 0, 1, 0, 1, 2, 1, 0, 1, 1, 2, 1, 0, 0, 2, 1, 0, 0, 0, 2, 2,\n",
       "       2, 0, 1, 0, 1, 1, 1, 2, 1, 1, 2, 2, 2, 0, 2, 2, 2, 2, 0, 0, 1, 0,\n",
       "       1])"
      ]
     },
     "execution_count": 14,
     "metadata": {},
     "output_type": "execute_result"
    }
   ],
   "source": [
    "# grid search 에는 predict 명령도 사용 가능\n",
    "grid_search_knn.predict(X_test)"
   ]
  },
  {
   "cell_type": "code",
   "execution_count": 15,
   "id": "ac561502",
   "metadata": {
    "scrolled": true
   },
   "outputs": [
    {
     "name": "stdout",
     "output_type": "stream",
     "text": [
      "test 세트 점수: 0.9777777777777777\n"
     ]
    }
   ],
   "source": [
    "print(\"test 세트 점수:\", grid_search_knn.score(X_test, y_test))"
   ]
  },
  {
   "cell_type": "markdown",
   "id": "97ddfaf7",
   "metadata": {},
   "source": [
    "### 결정 트리 모델에 그리드서치 적용하기!"
   ]
  },
  {
   "cell_type": "code",
   "execution_count": null,
   "id": "770e5e00",
   "metadata": {},
   "outputs": [],
   "source": [
    "# max_depth : 1~5\n",
    "# max_leaf_nodes : 1~50까지 10단위\n",
    "# min_samples_leaf : 1~150까지 10단위 씩"
   ]
  },
  {
   "cell_type": "code",
   "execution_count": 22,
   "id": "9eb14c8a",
   "metadata": {},
   "outputs": [],
   "source": [
    "# 파라미터 범위 설정시 딕셔너리 형태로 작성\n",
    "param_tree = {\"max_depth\" : range(1,5), \n",
    "              \"max_leaf_nodes\" : range(1,50,10),\n",
    "              \"min_samples_leaf\" : range(1,150,10)\n",
    "             }\n",
    "\n",
    "grid_search_tree = GridSearchCV(DecisionTreeClassifier(),\n",
    "                                param_tree,\n",
    "                                cv=10\n",
    "                              )"
   ]
  },
  {
   "cell_type": "code",
   "execution_count": 23,
   "id": "e9edfa91",
   "metadata": {},
   "outputs": [
    {
     "data": {
      "text/plain": [
       "GridSearchCV(cv=10, estimator=DecisionTreeClassifier(),\n",
       "             param_grid={'max_depth': range(1, 5),\n",
       "                         'max_leaf_nodes': range(1, 50, 10),\n",
       "                         'min_samples_leaf': range(1, 150, 10)})"
      ]
     },
     "execution_count": 23,
     "metadata": {},
     "output_type": "execute_result"
    }
   ],
   "source": [
    "grid_search_tree.fit(X_train,y_train)"
   ]
  },
  {
   "cell_type": "code",
   "execution_count": 24,
   "id": "65e8c298",
   "metadata": {},
   "outputs": [
    {
     "name": "stdout",
     "output_type": "stream",
     "text": [
      "최적 하이퍼파라미터 값 :\n",
      " {'max_depth': 2, 'max_leaf_nodes': 11, 'min_samples_leaf': 1}\n",
      "최고 교차 검증 점수 : 0.9245454545454546\n",
      "최고 성능 모델 : DecisionTreeClassifier(max_depth=2, max_leaf_nodes=11)\n"
     ]
    }
   ],
   "source": [
    "print(\"최적 하이퍼파라미터 값 :\\n\", grid_search_tree.best_params_)\n",
    "print(\"최고 교차 검증 점수 :\", grid_search_tree.best_score_)\n",
    "print(\"최고 성능 모델 :\", grid_search_tree.best_estimator_)"
   ]
  },
  {
   "cell_type": "code",
   "execution_count": 25,
   "id": "bc8c2b61",
   "metadata": {},
   "outputs": [
    {
     "data": {
      "text/plain": [
       "array([1, 2, 0, 1, 0, 1, 2, 1, 0, 1, 1, 2, 1, 0, 0, 2, 1, 0, 0, 0, 2, 2,\n",
       "       2, 0, 1, 0, 1, 1, 1, 2, 1, 1, 2, 2, 2, 0, 2, 2, 2, 2, 0, 0, 1, 0,\n",
       "       1])"
      ]
     },
     "execution_count": 25,
     "metadata": {},
     "output_type": "execute_result"
    }
   ],
   "source": [
    "grid_search_knn.predict(X_test)"
   ]
  },
  {
   "cell_type": "code",
   "execution_count": 26,
   "id": "be0edd41",
   "metadata": {},
   "outputs": [
    {
     "name": "stdout",
     "output_type": "stream",
     "text": [
      "test 세트 점수: 0.9777777777777777\n"
     ]
    }
   ],
   "source": [
    "print(\"test 세트 점수:\", grid_search_tree.score(X_test, y_test))"
   ]
  },
  {
   "cell_type": "code",
   "execution_count": null,
   "id": "bdbfef99",
   "metadata": {},
   "outputs": [],
   "source": []
  },
  {
   "cell_type": "code",
   "execution_count": null,
   "id": "0f5fe990",
   "metadata": {},
   "outputs": [],
   "source": []
  },
  {
   "cell_type": "code",
   "execution_count": null,
   "id": "c4d03a4f",
   "metadata": {},
   "outputs": [],
   "source": []
  },
  {
   "cell_type": "code",
   "execution_count": null,
   "id": "2bb8fab8",
   "metadata": {},
   "outputs": [],
   "source": []
  },
  {
   "cell_type": "code",
   "execution_count": null,
   "id": "9ed703bf",
   "metadata": {},
   "outputs": [],
   "source": []
  },
  {
   "cell_type": "code",
   "execution_count": null,
   "id": "982c1f7e",
   "metadata": {},
   "outputs": [],
   "source": []
  },
  {
   "cell_type": "code",
   "execution_count": null,
   "id": "068ea5d6",
   "metadata": {},
   "outputs": [],
   "source": []
  },
  {
   "cell_type": "code",
   "execution_count": null,
   "id": "7fd229f2",
   "metadata": {},
   "outputs": [],
   "source": []
  },
  {
   "cell_type": "code",
   "execution_count": null,
   "id": "33819eb0",
   "metadata": {},
   "outputs": [],
   "source": []
  },
  {
   "cell_type": "code",
   "execution_count": null,
   "id": "31c5547f",
   "metadata": {},
   "outputs": [],
   "source": []
  },
  {
   "cell_type": "code",
   "execution_count": null,
   "id": "77793c9b",
   "metadata": {},
   "outputs": [],
   "source": []
  },
  {
   "cell_type": "code",
   "execution_count": null,
   "id": "661ec88a",
   "metadata": {},
   "outputs": [],
   "source": []
  },
  {
   "cell_type": "code",
   "execution_count": null,
   "id": "8013235f",
   "metadata": {},
   "outputs": [],
   "source": []
  },
  {
   "cell_type": "code",
   "execution_count": null,
   "id": "c91f05ad",
   "metadata": {},
   "outputs": [],
   "source": []
  },
  {
   "cell_type": "code",
   "execution_count": null,
   "id": "56bc8f23",
   "metadata": {},
   "outputs": [],
   "source": []
  },
  {
   "cell_type": "code",
   "execution_count": null,
   "id": "9227ffe3",
   "metadata": {},
   "outputs": [],
   "source": []
  },
  {
   "cell_type": "code",
   "execution_count": null,
   "id": "64ed034b",
   "metadata": {},
   "outputs": [],
   "source": []
  },
  {
   "cell_type": "code",
   "execution_count": null,
   "id": "bb72c7c2",
   "metadata": {},
   "outputs": [],
   "source": []
  },
  {
   "cell_type": "code",
   "execution_count": null,
   "id": "6fddfd11",
   "metadata": {},
   "outputs": [],
   "source": []
  },
  {
   "cell_type": "code",
   "execution_count": null,
   "id": "2a682a0a",
   "metadata": {},
   "outputs": [],
   "source": []
  },
  {
   "cell_type": "code",
   "execution_count": null,
   "id": "c6dfd8a1",
   "metadata": {},
   "outputs": [],
   "source": []
  },
  {
   "cell_type": "code",
   "execution_count": null,
   "id": "a67d0ea6",
   "metadata": {},
   "outputs": [],
   "source": []
  },
  {
   "cell_type": "code",
   "execution_count": null,
   "id": "efc3eeb6",
   "metadata": {},
   "outputs": [],
   "source": []
  },
  {
   "cell_type": "code",
   "execution_count": null,
   "id": "1eb252b9",
   "metadata": {},
   "outputs": [],
   "source": []
  }
 ],
 "metadata": {
  "kernelspec": {
   "display_name": "Python 3",
   "language": "python",
   "name": "python3"
  },
  "language_info": {
   "codemirror_mode": {
    "name": "ipython",
    "version": 3
   },
   "file_extension": ".py",
   "mimetype": "text/x-python",
   "name": "python",
   "nbconvert_exporter": "python",
   "pygments_lexer": "ipython3",
   "version": "3.8.8"
  }
 },
 "nbformat": 4,
 "nbformat_minor": 5
}
